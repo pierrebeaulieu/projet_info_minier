{
 "cells": [
  {
   "cell_type": "markdown",
   "metadata": {},
   "source": [
    "Ceci est le début de notre projet d'évaluation de projet minier.\n"
   ]
  },
  {
   "cell_type": "code",
   "execution_count": null,
   "metadata": {},
   "outputs": [],
   "source": [
    "import numpy as np\n",
    "import matplotlib.pyplot as plt\n",
    "import csv\n",
    "\n",
    "\n",
    "def extraction_csv(nom_fichier):\n",
    "\n",
    "    # ouverture du fichier\n",
    "\n",
    "    fichier=open(nom_fichier,'r')\n",
    "\n",
    "  \n",
    "    # Lecture du fichier\n",
    "    \n",
    "    \n",
    "    contenu = csv.reader(fichier,delimiter=\";\")\n",
    "\n",
    "    # Définition de nos tableau d'entree\n",
    "\n",
    "    investissement = []\n",
    "    cout_tonne_remuee = []\n",
    "    ratio_sterile = []\n",
    "    cout_traitement = []\n",
    "    charges_fixes = []\n",
    "    prix_or = []\n",
    "    taux_recuperation_or = []\n",
    "    prop_or_paye_dore = []\n",
    "    nombre_grammes_once = []\n",
    "    taux_actualisation = []\n",
    "    tonnage_geol = []\n",
    "    teneur_minerai = []\n",
    "    taux_recup = []\n",
    "    dilution_minerai = []\n",
    "    rythme_prod_annee = []\n",
    "    premiere_annee_prod = []\n",
    "\n",
    "     # Récupération des données sous forme de listes \n",
    "\n",
    "    i = 0\n",
    "    for row in contenu :\n",
    "        if i != 0 :\n",
    "        # connaitre par avance le numéro de colonne de la donnée A             CHANGER\n",
    "            investissement.append(row[0])\n",
    "            recettes.append(row[1])\n",
    "            depenses.append(row[2])\n",
    "            taux_actualisation.append(row[3])\n",
    "        else :\n",
    "            i+=1\n",
    "        \n",
    "\n",
    "    fichier.close()\n",
    "\n",
    "    entree={}\n",
    "    entree[investissement] = investissement\n",
    "    entree[cout_tonne_remuee]=cout_tonne_remuee\n",
    "    entree[ratio_sterile]=ratio_sterile\n",
    "    entree[cout_traitement]=cout_traitement\n",
    "    entree[charges_fixes]=charges_fixes\n",
    "    entree[prix_or]=prix_or\n",
    "    entree[taux_recuperation_or]=taux_recuperation_or\n",
    "    entree[ prop_or_paye_dore]= prop_or_paye_dore\n",
    "    entree[cout_traitement]=cout_traitement\n",
    "    entree[cout_traitement]=cout_traitement\n",
    "\n",
    "    return entree"
   ]
  },
  {
   "cell_type": "code",
   "execution_count": null,
   "metadata": {},
   "outputs": [],
   "source": [
    "perd\n"
   ]
  },
  {
   "cell_type": "code",
   "execution_count": null,
   "metadata": {},
   "outputs": [],
   "source": [
    "sis ca"
   ]
  },
  {
   "cell_type": "code",
   "execution_count": null,
   "metadata": {},
   "outputs": [],
   "source": [
    "import numpy as np\n",
    "import matplotlib.pyplot as plt\n",
    "%matplotlib notebook\n",
    "from ipywidgets import interact, FloatText\n",
    "\n",
    "class entrée:\n",
    "    def __init__(self):\n",
    "        self.\n",
    "\n",
    "    def exploitation(self):\n",
    "        self.\n",
    "\n",
    "\n",
    "\n",
    "\n",
    "class Calcul:  #dernière classe, avant il faut déterminer tous les pramamètres (production, prix/tonneminerai, etc...)\n",
    "    def __init__(self, params):\n",
    "        self.production = params.get('production')\n",
    "        self.recette_minerai = params.get('recette minerai')\n",
    "        self.charges_fixe = params.get('charges fixe')\n",
    "        self.traitement = params.get('traitement')\n",
    "        self.exploitation = pramas.get('exploitation')\n",
    "        self.remue = params.get('remue')\n",
    "        self.investissement = params.get('investissement')\n",
    "    \n",
    "    def recette(self):\n",
    "        return self.production * self.recette_minerai\n",
    "    \n",
    "\n",
    "    def cout(self):\n",
    "        return self.traitement + self.exploitation * self.production + self.remue * self.production\n",
    "    \n",
    "    def cash_flow(self):\n",
    "        return  self.recette() - self.cout() - self.investissement\n",
    "    \n",
    "    def cash_flow_actu(self):\n",
    "        CF = self.cash_flow()\n",
    "        N= len(CF)\n",
    "        CFA = np.copy(CF)\n",
    "        for n, cash in enumerate(CF):\n",
    "            for k in range(n+1):\n",
    "                CFA /= 1+actua\n",
    "    \n",
    "#année de benefice\n",
    "\n",
    "somme = 0\n",
    "i = 0\n",
    "produit = 1\n",
    "while somme < 0 or i = 0:\n",
    "    produit = produit*(1+taux_actualisation[i])\n",
    "    somme +=  (recettes[i] - depenses[i] - investissement[i]) / produit\n",
    "\n",
    "return i\n",
    "\n",
    "#pour le tri\n",
    "\n",
    "a = 0\n",
    "b = 0.5\n",
    "c = (a+b)/2\n",
    "epsilon = 0.01\n",
    "def f(a):\n",
    "    somme = 0\n",
    "    produit = 1\n",
    "    for i in range(len(recettes)):\n",
    "        produit = produit*(1+taux_actualisation[i])\n",
    "        somme +=  (recettes[i] - depenses[i] - investissement[i]) / produit\n",
    "    return(somme)\n",
    "\n",
    "while abs(f(c)) > epsilon:\n",
    "    if f(c) > 0:\n",
    "        if f(a) < 0:\n",
    "            c = (a+c)/2\n",
    "        else:\n",
    "            c = (b+c)/2\n",
    "    elif f(a) > 0:\n",
    "        c = (a+c)/2\n",
    "    else:\n",
    "        c = (b+c)/2\n",
    "\n",
    "tri = c\n",
    "    \n",
    "#graphe\n",
    "\n",
    "l = np.array(len(recettes))\n",
    "for i in range(l):\n",
    "    l[i] = i+1\n",
    "f1 = plt.figure()\n",
    "plt.plot(l,nom.cash_flow_actu())"
   ]
  },
  {
   "cell_type": "code",
   "execution_count": null,
   "metadata": {},
   "outputs": [],
   "source": []
  },
  {
   "cell_type": "code",
   "execution_count": null,
   "metadata": {},
   "outputs": [],
   "source": []
  },
  {
   "cell_type": "code",
   "execution_count": null,
   "metadata": {},
   "outputs": [],
   "source": [
    "\"knonfonfioenfionfionefin\"fnk\"lfn\" roh\"orh\"iorh \"'ijrio\"jrio\"r i\"rn'io\"n io\"'nrio nrio\"rni\"ornion \"irn ir\"or rhnio\"r'nho hri\"or h\"'r hroi\"h\"iohr\"iohro\"i"
   ]
  },
  {
   "cell_type": "code",
   "execution_count": null,
   "metadata": {},
   "outputs": [],
   "source": [
    "ijij"
   ]
  },
  {
   "cell_type": "code",
   "execution_count": null,
   "metadata": {},
   "outputs": [],
   "source": []
  },
  {
   "cell_type": "code",
   "execution_count": null,
   "metadata": {},
   "outputs": [],
   "source": []
  },
  {
   "cell_type": "code",
   "execution_count": null,
   "metadata": {},
   "outputs": [],
   "source": []
  },
  {
   "cell_type": "code",
   "execution_count": null,
   "metadata": {},
   "outputs": [],
   "source": [
    "iuui"
   ]
  },
  {
   "cell_type": "code",
   "execution_count": null,
   "metadata": {},
   "outputs": [],
   "source": []
  },
  {
   "cell_type": "code",
   "execution_count": null,
   "metadata": {},
   "outputs": [],
   "source": []
  },
  {
   "cell_type": "code",
   "execution_count": null,
   "metadata": {},
   "outputs": [],
   "source": []
  },
  {
   "cell_type": "code",
   "execution_count": null,
   "metadata": {},
   "outputs": [],
   "source": [
    "uiui"
   ]
  },
  {
   "cell_type": "code",
   "execution_count": null,
   "metadata": {},
   "outputs": [],
   "source": []
  },
  {
   "cell_type": "code",
   "execution_count": null,
   "metadata": {},
   "outputs": [],
   "source": []
  },
  {
   "cell_type": "code",
   "execution_count": null,
   "metadata": {},
   "outputs": [],
   "source": []
  },
  {
   "cell_type": "code",
   "execution_count": null,
   "metadata": {},
   "outputs": [],
   "source": []
  },
  {
   "cell_type": "code",
   "execution_count": null,
   "metadata": {},
   "outputs": [],
   "source": []
  },
  {
   "cell_type": "code",
   "execution_count": null,
   "metadata": {},
   "outputs": [],
   "source": []
  },
  {
   "cell_type": "code",
   "execution_count": null,
   "metadata": {},
   "outputs": [],
   "source": []
  },
  {
   "cell_type": "code",
   "execution_count": null,
   "metadata": {},
   "outputs": [],
   "source": []
  },
  {
   "cell_type": "code",
   "execution_count": null,
   "metadata": {},
   "outputs": [],
   "source": []
  },
  {
   "cell_type": "code",
   "execution_count": null,
   "metadata": {},
   "outputs": [],
   "source": []
  },
  {
   "cell_type": "code",
   "execution_count": null,
   "metadata": {},
   "outputs": [],
   "source": []
  },
  {
   "cell_type": "code",
   "execution_count": null,
   "metadata": {},
   "outputs": [],
   "source": []
  },
  {
   "cell_type": "code",
   "execution_count": null,
   "metadata": {},
   "outputs": [],
   "source": []
  },
  {
   "cell_type": "code",
   "execution_count": null,
   "metadata": {},
   "outputs": [],
   "source": []
  },
  {
   "cell_type": "code",
   "execution_count": null,
   "metadata": {},
   "outputs": [],
   "source": []
  },
  {
   "cell_type": "code",
   "execution_count": null,
   "metadata": {},
   "outputs": [],
   "source": []
  },
  {
   "cell_type": "code",
   "execution_count": null,
   "metadata": {},
   "outputs": [],
   "source": []
  },
  {
   "cell_type": "code",
   "execution_count": null,
   "metadata": {},
   "outputs": [],
   "source": []
  },
  {
   "cell_type": "code",
   "execution_count": null,
   "metadata": {},
   "outputs": [],
   "source": []
  },
  {
   "cell_type": "code",
   "execution_count": null,
   "metadata": {},
   "outputs": [],
   "source": []
  },
  {
   "cell_type": "code",
   "execution_count": null,
   "metadata": {},
   "outputs": [],
   "source": []
  },
  {
   "cell_type": "code",
   "execution_count": null,
   "metadata": {},
   "outputs": [],
   "source": []
  },
  {
   "cell_type": "code",
   "execution_count": null,
   "metadata": {},
   "outputs": [],
   "source": []
  },
  {
   "cell_type": "code",
   "execution_count": null,
   "metadata": {},
   "outputs": [],
   "source": []
  },
  {
   "cell_type": "code",
   "execution_count": null,
   "metadata": {},
   "outputs": [],
   "source": []
  },
  {
   "cell_type": "code",
   "execution_count": null,
   "metadata": {},
   "outputs": [],
   "source": []
  },
  {
   "cell_type": "code",
   "execution_count": null,
   "metadata": {},
   "outputs": [],
   "source": []
  },
  {
   "cell_type": "code",
   "execution_count": null,
   "metadata": {},
   "outputs": [],
   "source": []
  },
  {
   "cell_type": "code",
   "execution_count": null,
   "metadata": {},
   "outputs": [],
   "source": []
  },
  {
   "cell_type": "code",
   "execution_count": null,
   "metadata": {},
   "outputs": [],
   "source": []
  },
  {
   "cell_type": "code",
   "execution_count": null,
   "metadata": {},
   "outputs": [],
   "source": []
  },
  {
   "cell_type": "code",
   "execution_count": null,
   "metadata": {},
   "outputs": [],
   "source": []
  },
  {
   "cell_type": "code",
   "execution_count": null,
   "metadata": {},
   "outputs": [],
   "source": []
  },
  {
   "cell_type": "code",
   "execution_count": null,
   "metadata": {},
   "outputs": [],
   "source": []
  },
  {
   "cell_type": "code",
   "execution_count": null,
   "metadata": {},
   "outputs": [],
   "source": []
  },
  {
   "cell_type": "code",
   "execution_count": null,
   "metadata": {},
   "outputs": [],
   "source": []
  },
  {
   "cell_type": "code",
   "execution_count": null,
   "metadata": {},
   "outputs": [],
   "source": []
  },
  {
   "cell_type": "code",
   "execution_count": null,
   "metadata": {},
   "outputs": [],
   "source": []
  },
  {
   "cell_type": "code",
   "execution_count": null,
   "metadata": {},
   "outputs": [],
   "source": []
  },
  {
   "cell_type": "code",
   "execution_count": null,
   "metadata": {},
   "outputs": [],
   "source": []
  },
  {
   "cell_type": "code",
   "execution_count": null,
   "metadata": {},
   "outputs": [],
   "source": []
  },
  {
   "cell_type": "code",
   "execution_count": null,
   "metadata": {},
   "outputs": [],
   "source": []
  },
  {
   "cell_type": "code",
   "execution_count": null,
   "metadata": {},
   "outputs": [],
   "source": []
  },
  {
   "cell_type": "code",
   "execution_count": null,
   "metadata": {},
   "outputs": [],
   "source": []
  },
  {
   "cell_type": "code",
   "execution_count": null,
   "metadata": {},
   "outputs": [],
   "source": []
  },
  {
   "cell_type": "code",
   "execution_count": null,
   "metadata": {},
   "outputs": [],
   "source": []
  },
  {
   "cell_type": "code",
   "execution_count": null,
   "metadata": {},
   "outputs": [],
   "source": []
  },
  {
   "cell_type": "code",
   "execution_count": null,
   "metadata": {},
   "outputs": [],
   "source": []
  },
  {
   "cell_type": "code",
   "execution_count": null,
   "metadata": {},
   "outputs": [],
   "source": []
  },
  {
   "cell_type": "code",
   "execution_count": null,
   "metadata": {},
   "outputs": [],
   "source": []
  },
  {
   "cell_type": "code",
   "execution_count": null,
   "metadata": {},
   "outputs": [],
   "source": []
  },
  {
   "cell_type": "code",
   "execution_count": null,
   "metadata": {},
   "outputs": [],
   "source": []
  },
  {
   "cell_type": "code",
   "execution_count": null,
   "metadata": {},
   "outputs": [],
   "source": []
  },
  {
   "cell_type": "code",
   "execution_count": null,
   "metadata": {},
   "outputs": [],
   "source": []
  },
  {
   "cell_type": "code",
   "execution_count": null,
   "metadata": {},
   "outputs": [],
   "source": []
  },
  {
   "cell_type": "code",
   "execution_count": null,
   "metadata": {},
   "outputs": [],
   "source": []
  },
  {
   "cell_type": "code",
   "execution_count": null,
   "metadata": {},
   "outputs": [],
   "source": []
  },
  {
   "cell_type": "code",
   "execution_count": null,
   "metadata": {},
   "outputs": [],
   "source": []
  },
  {
   "cell_type": "code",
   "execution_count": null,
   "metadata": {},
   "outputs": [],
   "source": []
  },
  {
   "cell_type": "code",
   "execution_count": null,
   "metadata": {},
   "outputs": [],
   "source": []
  },
  {
   "cell_type": "code",
   "execution_count": null,
   "metadata": {},
   "outputs": [],
   "source": []
  }
 ],
 "metadata": {
  "kernelspec": {
   "display_name": "Python 3",
   "language": "python",
   "name": "python3"
  },
  "language_info": {
   "codemirror_mode": {
    "name": "ipython",
    "version": 3
   },
   "file_extension": ".py",
   "mimetype": "text/x-python",
   "name": "python",
   "nbconvert_exporter": "python",
   "pygments_lexer": "ipython3",
   "version": "3.8.3"
  }
 },
 "nbformat": 4,
 "nbformat_minor": 2
}