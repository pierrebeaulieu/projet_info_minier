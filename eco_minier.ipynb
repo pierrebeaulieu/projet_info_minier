{
 "cells": [
  {
   "cell_type": "markdown",
   "metadata": {},
   "source": [
    "Ceci est le début de notre projet d'évaluation de projet minier.\n"
   ]
  },
  {
   "cell_type": "code",
   "execution_count": 4,
   "metadata": {},
   "outputs": [],
   "source": [
    "import numpy as np\n",
    "import matplotlib.pyplot as plt\n",
    "import csv\n",
    "\n",
    "# n est les nombre d'années sur lesquelles on veut effectuer le calcul\n",
    "\n",
    "def extraction_csv(nom_fichier,n):\n",
    "\n",
    "    # ouverture du fichier\n",
    "\n",
    "    fichier=open(nom_fichier,'r')\n",
    "\n",
    "    # Lecture du fichier\n",
    "    \n",
    "    \n",
    "    contenu = csv.reader(fichier,delimiter=\";\")\n",
    "\n",
    "    # Définition de nos tableau d'entree\n",
    "\n",
    "    investissement = []\n",
    "    cout_tonne_remuee = []\n",
    "    ratio_sterile = []\n",
    "    cout_traitement = []\n",
    "    charges_fixes = []\n",
    "    prix_or = []\n",
    "    taux_recuperation_or = []\n",
    "    prop_or_paye_dore = []\n",
    "    nombre_grammes_once = []\n",
    "    taux_actualisation = []\n",
    "    tonnage_geol = []\n",
    "    teneur_minerai_geol = []\n",
    "    taux_recup = []\n",
    "    dilution_minerai = []\n",
    "    rythme_prod_annee = []\n",
    "    premiere_annee_prod = []\n",
    "\n",
    "\n",
    "    # Récupération des données sous forme de listes \n",
    "\n",
    "    for row in contenu :\n",
    "        if row[1]==\"Tonnage de minerai géologique\":\n",
    "            tonnage_geol.append(row[3])\n",
    "        if row[1]==\"Teneur du minerai géologique\":\n",
    "            teneur_minerai_geol.append(row[3])\n",
    "        if row[1]==\"Taux de récupération du gisement\":\n",
    "            taux_recup.append(row[3])\n",
    "        if row[1]==\"Dilution du minerai\":\n",
    "            dilution_minerai.append(row[3])\n",
    "        if row[1]==\"Rythme de production annuelle de minerai\":\n",
    "            rythme_prod_annee.append(row[3])\n",
    "        if row[1]==\"Première année de production\":\n",
    "            premiere_annee_prod.append(row[3])\n",
    "        if row[5]==\"Investissement initial pour l'exploitation\":\n",
    "            investissement.append(row[7])\n",
    "        if row[5]==\"Coût par tonne remuée dans la mine à ciel ouvert\":\n",
    "            cout_tonne_remuee.append(row[7])\n",
    "        if row[5]==\"Ratio stérile sur minerai dans la mine à ciel ouvert\":\n",
    "            ratio_sterile.append(row[7])\n",
    "        if row[5]==\"Coût de traitement par tonne de minerai\":\n",
    "            cout_traitement.append(row[7])\n",
    "        if row[5]==\"Charges fixes annuelles\":\n",
    "            charges_fixes.append(row[7])\n",
    "        if row[5]==\"Prix de vente de l'or\":\n",
    "            prix_or.append(row[7])\n",
    "        if row[5]==\"Taux de récupération de l'or dans le traitement\":\n",
    "            taux_recuperation_or.append(row[7])\n",
    "        if row[5]==\"Proportion d'or payé dans le doré\":\n",
    "            prop_or_paye_dore.append(row[7])\n",
    "        if row[5]==\"Prix de vente de l'or\":\n",
    "            prix_or.append(row[7])\n",
    "        if row[5]==\"Nombre de grammes dans une once\":\n",
    "            nombre_grammes_once.append(row[7])\n",
    "        if row[5]==\"Taux d'actualisation\":\n",
    "            taux_actualisation.append(row[7])\n",
    "    fichier.close()\n",
    "\n",
    "    # On prend des valeurs constantes dans un premier temps sur n années.\n",
    "\n",
    "    investissement = np.array(n*investissement)\n",
    "    cout_tonne_remuee = np.array(n*cout_tonne_remuee)\n",
    "    ratio_sterile = np.array(n*ratio_sterile)\n",
    "    cout_traitement = np.array(n*cout_traitement)\n",
    "    charges_fixes = np.array(n*charges_fixes)\n",
    "    prix_or = np.array(n*prix_or)\n",
    "    taux_recuperation_or = np.array(n*taux_recuperation_or)\n",
    "    prop_or_paye_dore = np.array(n*prop_or_paye_dore)\n",
    "    nombre_grammes_once = np.array(n*nombre_grammes_once)\n",
    "    taux_actualisation = np.array(n*taux_actualisation)\n",
    "    tonnage_geol = np.array(n*tonnage_geol)\n",
    "    teneur_minerai_geol = np.array(n*teneur_minerai_geol)\n",
    "    taux_recup = np.array(n*taux_recup)\n",
    "    dilution_minerai = np.array(n*dilution_minerai)\n",
    "    rythme_prod_annee = np.array(n*rythme_prod_annee)\n",
    "    premiere_annee_prod = np.array(n*premiere_annee_prod)\n",
    "\n",
    "    # Creation du dictionnaire\n",
    "\n",
    "    entree={}\n",
    "    entree[\"investissement\"] = investissement\n",
    "    entree[\"cout_tonne_remuee\"]=cout_tonne_remuee\n",
    "    entree[\"ratio_sterile\"]=ratio_sterile\n",
    "    entree[\"cout_traitement\"]=cout_traitement\n",
    "    entree[\"charges_fixes\"]=charges_fixes\n",
    "    entree[\"prix_or\"]=prix_or\n",
    "    entree[\"taux_recuperation_or\"]=taux_recuperation_or\n",
    "    entree[\"prop_or_paye_dore\"]= prop_or_paye_dore\n",
    "    entree[\"nombre_grammes_once\"]=nombre_grammes_once\n",
    "    entree[\"taux_actualisation\"]=taux_actualisation\n",
    "    entree[\"tonnage_geol\"]=tonnage_geol\n",
    "    entree[\"teneur_minerai_geol\"]=teneur_minerai_geol\n",
    "    entree[\"taux_recup\"]=taux_recup\n",
    "    entree[\"dilution_minerai\"]=dilution_minerai\n",
    "    entree[\"rythme_prod_annee\"]=rythme_prod_annee\n",
    "    entree[\"premiere_annee_prod\"]=premiere_annee_prod\n",
    "\n",
    "    return entree"
   ]
  },
  {
   "cell_type": "code",
   "execution_count": 4,
   "metadata": {},
   "outputs": [],
   "source": [
    "\n"
   ]
  },
  {
   "cell_type": "code",
   "execution_count": null,
   "metadata": {},
   "outputs": [],
   "source": []
  },
  {
   "cell_type": "code",
   "execution_count": 5,
   "metadata": {},
   "outputs": [
    {
     "output_type": "error",
     "ename": "SyntaxError",
     "evalue": "invalid syntax (<ipython-input-5-4aeda48cf11d>, line 107)",
     "traceback": [
      "\u001b[1;36m  File \u001b[1;32m\"<ipython-input-5-4aeda48cf11d>\"\u001b[1;36m, line \u001b[1;32m107\u001b[0m\n\u001b[1;33m    while somme < 0 or i = 0:\u001b[0m\n\u001b[1;37m                         ^\u001b[0m\n\u001b[1;31mSyntaxError\u001b[0m\u001b[1;31m:\u001b[0m invalid syntax\n"
     ]
    }
   ],
   "source": [
    "import numpy as np\n",
    "import matplotlib.pyplot as plt\n",
    "%matplotlib notebook\n",
    "from ipywidgets import interact, FloatText\n",
    "\n",
    "class entrée:\n",
    "    def __init__(self, params):\n",
    "        self.n = len(investissement)\n",
    "        self.investissement = params.get('investissement')\n",
    "        self.cout_tonne_remuee = params.get('cout_tonne_remuee') \n",
    "        self.ratio_sterile = params.get('ratio_sterile')\n",
    "        self.cout_traitement = params.get('cout_traitement')\n",
    "        self.charges_fixes = params.get('charges_fixes')\n",
    "        self.prix_or = params.get('prix_or')\n",
    "        self.taux_recuperation_or = params.get('taux_recuperation_or')\n",
    "        self.prop_or_paye_dore = params.get('prop_or_paye_dore')\n",
    "        self.nombre_grammes_once = params.get('nombre_grammes_once')\n",
    "        self.taux_actualisation = params.get('taux_actualisation')\n",
    "        self.tonnage_geol = params.get('tonnage_geol')\n",
    "        self.teneur_minerai_geol = params.get('teneur_minerai_geol')\n",
    "        self.taux_recup = params.get('taux_recup')\n",
    "        self.dilution_minerai = params.get('dilution_minerai')\n",
    "        self.rythme_prod_annee = params.get('rythme_prod_annee')\n",
    "        self.premiere_annee_prod = params.get('premiere_annee_prod')\n",
    "\n",
    "    def cout_exploitation_tonne_minerai(self):\n",
    "        return self.cout_tonne_remuee * (1 + self.ratio_sterile)\n",
    "    \n",
    "    def teneur_minerai_industriel(self):\n",
    "        return self.teneur_minerai_geol/(1 + self.dilution_minerai/100)\n",
    "\n",
    "    def tonnage_industriel(self):\n",
    "        return self.tonnage_geol * self.taux_recup/100 * (1 + self.dilution_minerai/100)\n",
    "\n",
    "    def qte_or_payé(self):\n",
    "        self.teneur_minerai_industriel() * self.taux_recuperation_or/100 * self.prop_or_paye_dore/100\n",
    "\n",
    "    def recette_tonne_minerai(self):\n",
    "        self.qte_or_payé * self.prix_or / self.nombre_grammes_once\n",
    "    \n",
    "    def dep_operatoiresMCO(self):\n",
    "        return self.rythme_prod_annee * self.cout_exploitation_tonne_minerai()\n",
    "\n",
    "    def dep_operatoiresTraitement(self):\n",
    "        self.rythme_prod_annee * self.cout_traitement\n",
    "    \n",
    "    def charges_fixes(self):\n",
    "        return self.charges_fixes\n",
    "    \n",
    "    def dep_operatoiresTotale(self):\n",
    "        return self.charges_fixes() + self.dep_operatoiresTraitement() + self.dep_operatoiresMCO()\n",
    "    \n",
    "    def recette(self):\n",
    "        return self.rythme_prod_annee * self.recette_tonne_minerai\n",
    "\n",
    "    def cash_flow(self):\n",
    "        return self.recette() - self.dep_operatoiresTotale() - self.traitement\n",
    "    \n",
    "    def cumul_cash_flow(self):\n",
    "        cumul = self.cash_flow()\n",
    "        N = len(cumul)\n",
    "        for i in range(N):\n",
    "            cumul [i] = np.sum(cumul[:i])\n",
    "        return cumul\n",
    "    \n",
    "    def taux_actualisation(self):\n",
    "        actua = self.taux_actualisation\n",
    "        N = len(actua)\n",
    "        for i in range(N):\n",
    "            actua[i] = np.product(actua[:i])\n",
    "        return actua\n",
    "\n",
    "    def cash_flow_actu(self):\n",
    "        CF = self.cash_flow()\n",
    "        N= len(CF)\n",
    "        facteur = taux_actualisation(self)\n",
    "        CFA = np.copy(CF)\n",
    "        return facteur * CF\n",
    "\n",
    "    def cumul_cash_flow_actu(self):\n",
    "        return np.sum(self.cumul_cash_flow_actu())\n",
    "        \n",
    "        \n",
    "    \n",
    "\n",
    "    '''\n",
    "#rajouiter variable N\n",
    "class Calcul:  #dernière classe, avant il faut déterminer tous les pramamètres (production, prix/tonneminerai, etc...)\n",
    "    def __init__(self, params):\n",
    "        self.production = params.get('production')\n",
    "        self.recette_tonne_minerai = params.get('recette minerai tonne minerai')\n",
    "        self.charges_fixe = params.get('charges fixe')\n",
    "        self.traitement = params.get('traitement')\n",
    "        self.exploitation = pramas.get('exploitation')\n",
    "        self.remue = params.get('remue')\n",
    "        self.investissement = params.get('investissement')\n",
    "    \n",
    "    def recette(self):\n",
    "        return self.production * self.recette_minerai\n",
    "'''    \n",
    "    \n",
    "#année de benefice\n",
    "\n",
    "    somme = 0\n",
    "    i = 0\n",
    "    produit = 1\n",
    "    while somme < 0 or i == 0:\n",
    "        produit = produit*(1+taux_actualisation[i])\n",
    "        somme +=  (recettes[i] - depenses[i] - investissement[i]) / produit\n",
    "\n",
    "    return i\n",
    "\n",
    "    #pour le tri\n",
    "\n",
    "    a = 0\n",
    "    b = 0.5\n",
    "    c = (a+b)/2\n",
    "    epsilon = 0.01\n",
    "    def f(a):\n",
    "        somme = 0\n",
    "        produit = 1\n",
    "        for i in range(len(recettes)):\n",
    "            produit = produit*(1+taux_actualisation[i])\n",
    "            somme +=  (recettes[i] - depenses[i] - investissement[i]) / produit\n",
    "        return(somme)\n",
    "\n",
    "    while abs(f(c)) > epsilon:\n",
    "        if f(c) > 0:\n",
    "            if f(a) < 0:\n",
    "                c = (a+c)/2\n",
    "            else:\n",
    "                c = (b+c)/2\n",
    "            elif f(a) > 0:\n",
    "                c = (a+c)/2\n",
    "        else:\n",
    "            c = (b+c)/2\n",
    "\n",
    "    tri = c\n",
    "    \n",
    "#graphe\n",
    "\n",
    "l = np.array(len(recettes))\n",
    "for i in range(l):\n",
    "    l[i] = i+1\n",
    "f1 = plt.figure()\n",
    "plt.plot(l,nom.cash_flow_actu())"
   ]
  },
  {
   "cell_type": "code",
   "execution_count": 1,
   "metadata": {},
   "outputs": [],
   "source": [
    "def affichage(n, variable):\n",
    "    valeurs = entree(extraction_csv(\"donnees_entree_proj_minier.xlsx\",n))\n",
    "    abscisse = annee(n)\n",
    "    plt.figure(\"graphe\")\n",
    "\n",
    "    # essayer de tout passer en attribut pour faciliter\n",
    "\n",
    "    plt.plot(annee,valeur.variable(), label = 'variable')\n",
    "    plt.ylabel('variable')\n",
    "    plt.xlabel(\"année\")\n",
    "    plt.title(\"Tracé variable\")\n",
    "    plt.legend()\n",
    "    plt.show()"
   ]
  },
  {
   "cell_type": "code",
   "execution_count": null,
   "metadata": {},
   "outputs": [],
   "source": []
  },
  {
   "cell_type": "code",
   "execution_count": null,
   "metadata": {},
   "outputs": [],
   "source": []
  },
  {
   "cell_type": "code",
   "execution_count": null,
   "metadata": {},
   "outputs": [],
   "source": [
    "ijij"
   ]
  },
  {
   "cell_type": "code",
   "execution_count": null,
   "metadata": {},
   "outputs": [],
   "source": []
  },
  {
   "cell_type": "code",
   "execution_count": null,
   "metadata": {},
   "outputs": [],
   "source": []
  },
  {
   "cell_type": "code",
   "execution_count": null,
   "metadata": {},
   "outputs": [],
   "source": []
  },
  {
   "cell_type": "code",
   "execution_count": null,
   "metadata": {},
   "outputs": [],
   "source": [
    "iuui"
   ]
  },
  {
   "cell_type": "code",
   "execution_count": null,
   "metadata": {},
   "outputs": [],
   "source": []
  },
  {
   "cell_type": "code",
   "execution_count": null,
   "metadata": {},
   "outputs": [],
   "source": []
  },
  {
   "cell_type": "code",
   "execution_count": null,
   "metadata": {},
   "outputs": [],
   "source": []
  },
  {
   "cell_type": "code",
   "execution_count": null,
   "metadata": {},
   "outputs": [],
   "source": [
    "uiui"
   ]
  },
  {
   "cell_type": "code",
   "execution_count": null,
   "metadata": {},
   "outputs": [],
   "source": []
  },
  {
   "cell_type": "code",
   "execution_count": null,
   "metadata": {},
   "outputs": [],
   "source": []
  },
  {
   "cell_type": "code",
   "execution_count": null,
   "metadata": {},
   "outputs": [],
   "source": []
  },
  {
   "cell_type": "code",
   "execution_count": null,
   "metadata": {},
   "outputs": [],
   "source": []
  },
  {
   "cell_type": "code",
   "execution_count": null,
   "metadata": {},
   "outputs": [],
   "source": []
  },
  {
   "cell_type": "code",
   "execution_count": null,
   "metadata": {},
   "outputs": [],
   "source": []
  },
  {
   "cell_type": "code",
   "execution_count": null,
   "metadata": {},
   "outputs": [],
   "source": []
  },
  {
   "cell_type": "code",
   "execution_count": null,
   "metadata": {},
   "outputs": [],
   "source": []
  },
  {
   "cell_type": "code",
   "execution_count": null,
   "metadata": {},
   "outputs": [],
   "source": []
  },
  {
   "cell_type": "code",
   "execution_count": null,
   "metadata": {},
   "outputs": [],
   "source": []
  },
  {
   "cell_type": "code",
   "execution_count": null,
   "metadata": {},
   "outputs": [],
   "source": []
  },
  {
   "cell_type": "code",
   "execution_count": null,
   "metadata": {},
   "outputs": [],
   "source": []
  },
  {
   "cell_type": "code",
   "execution_count": null,
   "metadata": {},
   "outputs": [],
   "source": []
  },
  {
   "cell_type": "code",
   "execution_count": null,
   "metadata": {},
   "outputs": [],
   "source": []
  },
  {
   "cell_type": "code",
   "execution_count": null,
   "metadata": {},
   "outputs": [],
   "source": []
  },
  {
   "cell_type": "code",
   "execution_count": null,
   "metadata": {},
   "outputs": [],
   "source": []
  },
  {
   "cell_type": "code",
   "execution_count": null,
   "metadata": {},
   "outputs": [],
   "source": []
  },
  {
   "cell_type": "code",
   "execution_count": null,
   "metadata": {},
   "outputs": [],
   "source": []
  },
  {
   "cell_type": "code",
   "execution_count": null,
   "metadata": {},
   "outputs": [],
   "source": []
  },
  {
   "cell_type": "code",
   "execution_count": null,
   "metadata": {},
   "outputs": [],
   "source": []
  },
  {
   "cell_type": "code",
   "execution_count": null,
   "metadata": {},
   "outputs": [],
   "source": []
  },
  {
   "cell_type": "code",
   "execution_count": null,
   "metadata": {},
   "outputs": [],
   "source": []
  },
  {
   "cell_type": "code",
   "execution_count": null,
   "metadata": {},
   "outputs": [],
   "source": []
  },
  {
   "cell_type": "code",
   "execution_count": null,
   "metadata": {},
   "outputs": [],
   "source": []
  },
  {
   "cell_type": "code",
   "execution_count": null,
   "metadata": {},
   "outputs": [],
   "source": []
  },
  {
   "cell_type": "code",
   "execution_count": null,
   "metadata": {},
   "outputs": [],
   "source": []
  },
  {
   "cell_type": "code",
   "execution_count": null,
   "metadata": {},
   "outputs": [],
   "source": []
  },
  {
   "cell_type": "code",
   "execution_count": null,
   "metadata": {},
   "outputs": [],
   "source": []
  },
  {
   "cell_type": "code",
   "execution_count": null,
   "metadata": {},
   "outputs": [],
   "source": []
  },
  {
   "cell_type": "code",
   "execution_count": null,
   "metadata": {},
   "outputs": [],
   "source": []
  },
  {
   "cell_type": "code",
   "execution_count": null,
   "metadata": {},
   "outputs": [],
   "source": []
  },
  {
   "cell_type": "code",
   "execution_count": null,
   "metadata": {},
   "outputs": [],
   "source": []
  },
  {
   "cell_type": "code",
   "execution_count": null,
   "metadata": {},
   "outputs": [],
   "source": []
  },
  {
   "cell_type": "code",
   "execution_count": null,
   "metadata": {},
   "outputs": [],
   "source": []
  },
  {
   "cell_type": "code",
   "execution_count": null,
   "metadata": {},
   "outputs": [],
   "source": []
  },
  {
   "cell_type": "code",
   "execution_count": null,
   "metadata": {},
   "outputs": [],
   "source": []
  },
  {
   "cell_type": "code",
   "execution_count": null,
   "metadata": {},
   "outputs": [],
   "source": []
  },
  {
   "cell_type": "code",
   "execution_count": null,
   "metadata": {},
   "outputs": [],
   "source": []
  },
  {
   "cell_type": "code",
   "execution_count": null,
   "metadata": {},
   "outputs": [],
   "source": []
  },
  {
   "cell_type": "code",
   "execution_count": null,
   "metadata": {},
   "outputs": [],
   "source": []
  },
  {
   "cell_type": "code",
   "execution_count": null,
   "metadata": {},
   "outputs": [],
   "source": []
  },
  {
   "cell_type": "code",
   "execution_count": null,
   "metadata": {},
   "outputs": [],
   "source": []
  },
  {
   "cell_type": "code",
   "execution_count": null,
   "metadata": {},
   "outputs": [],
   "source": []
  },
  {
   "cell_type": "code",
   "execution_count": null,
   "metadata": {},
   "outputs": [],
   "source": []
  },
  {
   "cell_type": "code",
   "execution_count": null,
   "metadata": {},
   "outputs": [],
   "source": []
  },
  {
   "cell_type": "code",
   "execution_count": null,
   "metadata": {},
   "outputs": [],
   "source": []
  },
  {
   "cell_type": "code",
   "execution_count": null,
   "metadata": {},
   "outputs": [],
   "source": []
  },
  {
   "cell_type": "code",
   "execution_count": null,
   "metadata": {},
   "outputs": [],
   "source": []
  },
  {
   "cell_type": "code",
   "execution_count": null,
   "metadata": {},
   "outputs": [],
   "source": []
  },
  {
   "cell_type": "code",
   "execution_count": null,
   "metadata": {},
   "outputs": [],
   "source": []
  },
  {
   "cell_type": "code",
   "execution_count": null,
   "metadata": {},
   "outputs": [],
   "source": []
  },
  {
   "cell_type": "code",
   "execution_count": null,
   "metadata": {},
   "outputs": [],
   "source": []
  },
  {
   "cell_type": "code",
   "execution_count": null,
   "metadata": {},
   "outputs": [],
   "source": []
  },
  {
   "cell_type": "code",
   "execution_count": null,
   "metadata": {},
   "outputs": [],
   "source": []
  },
  {
   "cell_type": "code",
   "execution_count": null,
   "metadata": {},
   "outputs": [],
   "source": []
  },
  {
   "cell_type": "code",
   "execution_count": null,
   "metadata": {},
   "outputs": [],
   "source": []
  },
  {
   "cell_type": "code",
   "execution_count": null,
   "metadata": {},
   "outputs": [],
   "source": []
  },
  {
   "cell_type": "code",
   "execution_count": null,
   "metadata": {},
   "outputs": [],
   "source": []
  },
  {
   "cell_type": "code",
   "execution_count": null,
   "metadata": {},
   "outputs": [],
   "source": []
  },
  {
   "cell_type": "code",
   "execution_count": null,
   "metadata": {},
   "outputs": [],
   "source": []
  },
  {
   "cell_type": "code",
   "execution_count": null,
   "metadata": {},
   "outputs": [],
   "source": []
  }
 ],
 "metadata": {
  "kernelspec": {
   "name": "python383jvsc74a57bd09c860394b6d0a742e73a3da5b0ade218cf2ec5438bdad6475b8d65fc3eb06d6d",
   "display_name": "Python 3.8.3 64-bit ('base': conda)"
  },
  "language_info": {
   "codemirror_mode": {
    "name": "ipython",
    "version": 3
   },
   "file_extension": ".py",
   "mimetype": "text/x-python",
   "name": "python",
   "nbconvert_exporter": "python",
   "pygments_lexer": "ipython3",
   "version": "3.8.3"
  }
 },
 "nbformat": 4,
 "nbformat_minor": 2
}